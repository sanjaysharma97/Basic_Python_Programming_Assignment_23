{
 "cells": [
  {
   "cell_type": "markdown",
   "id": "83b100d0",
   "metadata": {},
   "source": [
    "# Question 1 Create a function that takes a number as an argument and returns True or False depending on whether the number is symmetrical or not. A number is symmetrical when it is the same as its reverse.\n",
    "Examples\n",
    "is_symmetrical(7227) ➞ True\n",
    "is_symmetrical(12567) ➞ False\n",
    "is_symmetrical(44444444) ➞ True\n",
    "is_symmetrical(9939) ➞ False\n",
    "is_symmetrical(1112111) ➞ True\n",
    "\n",
    "ANSWER-"
   ]
  },
  {
   "cell_type": "code",
   "execution_count": 1,
   "id": "4d422121",
   "metadata": {},
   "outputs": [
    {
     "name": "stdout",
     "output_type": "stream",
     "text": [
      "enter a string : -> 7227\n",
      "OUTPUT -> True\n",
      "enter a string : -> 12567\n",
      "OUTPUT -> False\n",
      "enter a string : -> 4444444\n",
      "OUTPUT -> True\n",
      "enter a string : -> SAS\n",
      "Invalid input please give numbers as a input\n",
      "enter a string : -> 1112111\n",
      "OUTPUT -> True\n",
      "enter a string : -> 9939\n",
      "OUTPUT -> False\n"
     ]
    }
   ],
   "source": [
    "def is_symmetrical(string):\n",
    "    if str(string)==str(string)[::-1]:\n",
    "        print(f'OUTPUT -> {True}')\n",
    "    else:\n",
    "        print(f'OUTPUT -> {False}')\n",
    "\n",
    "for i in range(5):\n",
    "    while True:\n",
    "        S=input(\"enter a string : -> \")\n",
    "        if S.isnumeric():\n",
    "            break\n",
    "        print(\"Invalid input please give numbers as a input\" )\n",
    "    is_symmetrical(S)\n",
    "    "
   ]
  },
  {
   "cell_type": "markdown",
   "id": "ce6a2262",
   "metadata": {},
   "source": [
    "# Question 2 Given a string of numbers separated by a comma and space, return the product of the numbers.\n",
    "Examples\n",
    "multiply_nums(\"2, 3\") ➞ 6\n",
    "multiply_nums(\"1, 2, 3, 4\") ➞ 24\n",
    "multiply_nums(\"54, 75, 453, 0\") ➞ 0\n",
    "multiply_nums(\"10, -2\") ➞ -20\n",
    "\n",
    "ANSWER-"
   ]
  },
  {
   "cell_type": "code",
   "execution_count": 2,
   "id": "0fc8fb7c",
   "metadata": {},
   "outputs": [
    {
     "name": "stdout",
     "output_type": "stream",
     "text": [
      "2, 3 -> 6\n",
      "1, 2,3,4 -> 24\n",
      "54,75,453,0 -> 0\n",
      "10, -2 -> -20\n"
     ]
    }
   ],
   "source": [
    "def multiply_nums(string):\n",
    "    out_str=string.replace(' ','').split(',')\n",
    "    out_num=1\n",
    "    for i in out_str:\n",
    "        out_num*=int(i)\n",
    "    print(f'{string} -> {out_num}')\n",
    "    \n",
    "    \n",
    "multiply_nums(\"2, 3\")\n",
    "multiply_nums(\"1, 2,3,4\")\n",
    "multiply_nums(\"54,75,453,0\")\n",
    "multiply_nums(\"10, -2\")\n",
    "    "
   ]
  },
  {
   "cell_type": "markdown",
   "id": "5307d696",
   "metadata": {},
   "source": [
    "# Question 3 Create a function that squares every digit of a number.\n",
    "Examples\n",
    "square_digits(9119) ➞ 811181\n",
    "square_digits(2483) ➞ 416649\n",
    "square_digits(3212) ➞ 9414\n",
    "Notes\n",
    "The function receives an integer and must return an integer.\n",
    "\n",
    "ANSWER-"
   ]
  },
  {
   "cell_type": "code",
   "execution_count": 3,
   "id": "c23aa612",
   "metadata": {},
   "outputs": [
    {
     "name": "stdout",
     "output_type": "stream",
     "text": [
      "enter a number for square of it: 9119\n",
      "9119-> 811181\n",
      "enter a number for square of it: 2483\n",
      "2483-> 416649\n",
      "enter a number for square of it: 3212\n",
      "3212-> 9414\n",
      "enter a number for square of it: 900\n",
      "900-> 8100\n"
     ]
    }
   ],
   "source": [
    "def square_digit(num):\n",
    "    in_list=[str(int(i)**2) for i in str(num)]\n",
    "    out_list=''.join(in_list)\n",
    "    print(f'{num}-> {int(out_list)}')    \n",
    "for i in range(4):\n",
    "    n=int(input(\"enter a number for square of it: \"))\n",
    "    square_digit(n)\n",
    "    "
   ]
  },
  {
   "cell_type": "markdown",
   "id": "fbf1c02c",
   "metadata": {},
   "source": [
    "# Question 4 Create a function that sorts a list and removes all duplicate items from it.\n",
    "Examples\n",
    "setify([1, 3, 3, 5, 5]) ➞ [1, 3, 5]\n",
    "setify([4, 4, 4, 4]) ➞ [4]\n",
    "setify([5, 7, 8, 9, 10, 15]) ➞ [5, 7, 8, 9, 10, 15]\n",
    "setify([3, 3, 3, 2, 1]) ➞ [1, 2, 3]\n",
    "\n",
    "ANSWER-"
   ]
  },
  {
   "cell_type": "code",
   "execution_count": 1,
   "id": "8f1a96c1",
   "metadata": {},
   "outputs": [
    {
     "name": "stdout",
     "output_type": "stream",
     "text": [
      "enter a list-> 1 3 3 5 5\n",
      "[1, 3, 3, 5, 5] -> [1, 3, 5]\n",
      "enter a list-> 4 4 4 4\n",
      "[4, 4, 4, 4] -> [4]\n",
      "enter a list-> 5 7 8 9 10 15\n",
      "[5, 7, 8, 9, 10, 15] -> [5, 7, 8, 9, 10, 15]\n",
      "enter a list-> 3 3 3 2 1\n",
      "[3, 3, 3, 2, 1] -> [1, 2, 3]\n"
     ]
    }
   ],
   "source": [
    "def setify(lst):\n",
    "    new_lst=sorted(set(lst))\n",
    "    print(f'{lst} -> {new_lst}')\n",
    "for j in range(4):\n",
    "    n=input(\"enter a list-> \")  \n",
    "    l=[int(i) for i in n.split()]\n",
    "    setify(l)"
   ]
  },
  {
   "cell_type": "markdown",
   "id": "5d779928",
   "metadata": {},
   "source": [
    "\n",
    "# Question 5 Create a function that returns the mean of all digits.\n",
    "Examples\n",
    "mean(42) ➞ 3\n",
    "mean(12345) ➞ 3\n",
    "mean(666) ➞ 6\n",
    "Notes\n",
    " The mean of all digits is the sum of digits / how many digits there are (e.g. mean of digits in\n",
    "512 is (5+1+2)/3(number of digits) = 8/3=2).\n",
    " The mean will always be an integer."
   ]
  },
  {
   "cell_type": "code",
   "execution_count": 1,
   "id": "ff20355c",
   "metadata": {},
   "outputs": [
    {
     "name": "stdout",
     "output_type": "stream",
     "text": [
      "enter a number: 42\n",
      "mean of 42 -> 3\n",
      "enter a number: 12345\n",
      "mean of 12345 -> 3\n",
      "enter a number: 666\n",
      "mean of 666 -> 6\n",
      "enter a number: 512\n",
      "mean of 512 -> 3\n"
     ]
    }
   ],
   "source": [
    "def mean(num):\n",
    "    new_num=[int(i) for i in str(num)]\n",
    "    out_num=sum(new_num)/len(str(num))\n",
    "    print(f'mean of {num} -> {out_num:.0f}')\n",
    "    \n",
    "for j in range(4):\n",
    "    n=input(\"enter a number: \")\n",
    "    mean(n)"
   ]
  },
  {
   "cell_type": "code",
   "execution_count": null,
   "id": "1f9bfabd",
   "metadata": {},
   "outputs": [],
   "source": []
  }
 ],
 "metadata": {
  "kernelspec": {
   "display_name": "Python 3 (ipykernel)",
   "language": "python",
   "name": "python3"
  },
  "language_info": {
   "codemirror_mode": {
    "name": "ipython",
    "version": 3
   },
   "file_extension": ".py",
   "mimetype": "text/x-python",
   "name": "python",
   "nbconvert_exporter": "python",
   "pygments_lexer": "ipython3",
   "version": "3.9.12"
  }
 },
 "nbformat": 4,
 "nbformat_minor": 5
}
